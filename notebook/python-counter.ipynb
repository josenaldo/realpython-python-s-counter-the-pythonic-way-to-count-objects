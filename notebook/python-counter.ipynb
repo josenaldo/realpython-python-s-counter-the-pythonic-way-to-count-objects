{
 "cells": [
  {
   "cell_type": "markdown",
   "metadata": {},
   "source": [
    "# Python's Counter: O jeito pythônico de contar objetos"
   ]
  },
  {
   "cell_type": "markdown",
   "metadata": {},
   "source": [
    "Um problema muito comum, na programação, é contar elementos repetidos. Python oferece um monte de ferramentas e técnicas que você pode usar para resolver esse problema. No entanto, a classe `Counter`, do módulo `collections`, tem uma solução limpa, eficiente e pythônica.\n",
    "\n",
    "Esta subclasse de `dict` vem uma funcionalidade de contagem eficiente por padrão. Entender como `Counter` funciona e como usá-lo eficientemente é uma habilidade conveniente para um desenvolvedor de Python.\n",
    "\n",
    "Neste tutorial, você aprenderá a:\n",
    "\n",
    "- Contar vários objetos repetidos de uma só vez:\n",
    "- Criar contadores com o a classe `Counter`\n",
    "- Recuperar os objetos mais comuns em um contador\n",
    "- Atualizar contagens de objetos\n",
    "- Use o contador para facilitar cálculos\n",
    "\n",
    "Você também aprenderá sobre o básico de usar o contador como um multiconjunto(multisset), que é um recurso adicional dessa classe."
   ]
  },
  {
   "cell_type": "markdown",
   "metadata": {},
   "source": [
    "## Contando objetos em Python"
   ]
  },
  {
   "cell_type": "markdown",
   "metadata": {},
   "source": [
    "Às vezes, você precisa contar os objetos em uma determinada fonte de dados, para saber quantas vezes eles ocorrem. Em outras palavras, você precisa determinar sua frequência. Por exemplo, você pode querer saber quantas vezes um item específico aparece em uma lista ou sequência de valores.\n",
    "\n",
    "Quando sua lista é curta, contar os itens pode ser algo direto e rápido. No entanto, quando você tem uma lista longa, contar os items pode ser mais desafiador.\n",
    "\n",
    "Para contar objetos, você normalmente usa um contador, que é uma variável inteira com um valor inicial de zero. Em seguida, você incremente o contador para refletir o número de vezes que um determinado objeto aparece na fonte de dados de entrada.\n",
    "\n",
    "Quando você está contando as ocorrências de um único objeto, você pode usar um único contador. No entanto, quando você precisa contar vários objetos diferentes, você precisa criar um contador pra cada categoria de objeto.\n",
    "\n",
    "Para contar vários objetos diferentes de uma só vez, você pode usar um dicionário Python. As chaves do dicionário armazenarão os objetos que você deseja contar. Os valores do dicionário manterão o número de repetições de um determinado objeto ou a contagem do objeto.\n",
    "\n",
    "Por exemplo, para contar os objetos em uma sequência usando um dicionário, você pode iterar sobre a sequência, verificar se o objeto atual não está no dicionário para inicializar o contador (par de chave de valor) e, em seguida, incrementar sua contagem de acordo.\n",
    "\n",
    "Aqui está um exemplo que conta as letras na palavra \"Mississippi\":"
   ]
  },
  {
   "cell_type": "code",
   "execution_count": 4,
   "metadata": {},
   "outputs": [
    {
     "data": {
      "text/plain": [
       "{'m': 1, 'i': 4, 's': 4, 'p': 2}"
      ]
     },
     "execution_count": 4,
     "metadata": {},
     "output_type": "execute_result"
    }
   ],
   "source": [
    "word = \"mississippi\"\n",
    "counter = {}\n",
    "\n",
    "for letter in word:\n",
    "    if letter not in counter:\n",
    "        counter[letter] = 0\n",
    "    counter[letter] += 1\n",
    "\n",
    "counter\n"
   ]
  },
  {
   "cell_type": "markdown",
   "metadata": {},
   "source": [
    "O loop `for` itera sobre as letras da palavra. Em cada iteração, a condicional verifica se a letra atual não é uma chave no dicionário que você está usando como contador. Em caso afirmativo (ou seja, o dicionário não contém um item com a letra atual como chave), cria uma nova chave com a letra e inicializa sua contagem para zero. O passo final é incrementar o valor do item por um. Quando você acessa o contador, você vê que as letras funcionam como chaves e os valores como contagens.\n",
    "\n",
    "> Nota: Quando você está contando vários objetos repetidos com dicionários,\n",
    "> tenha em mente que eles devem ser *hashable*, uma vez que eles devem funcionar\n",
    "> como chaves de dicionário. Ser *hashable* significa que seus objetos devem ter\n",
    "> um valor de hash que nunca muda durante a sua vida. Em Python, objetos\n",
    "> imutáveis também são *hashable*.\n",
    "\n",
    "Outro jeito de contar objetos com um dicionário é usar o `dict.get()` com `0` como um valor padrão:"
   ]
  },
  {
   "cell_type": "code",
   "execution_count": 2,
   "metadata": {},
   "outputs": [
    {
     "data": {
      "text/plain": [
       "{'m': 1, 'i': 4, 's': 4, 'p': 2}"
      ]
     },
     "execution_count": 2,
     "metadata": {},
     "output_type": "execute_result"
    }
   ],
   "source": [
    "word = \"mississippi\"\n",
    "counter = {}\n",
    "\n",
    "for letter in word:\n",
    "    counter[letter] = counter.get(letter, 0) + 1\n",
    "\n",
    "counter"
   ]
  },
  {
   "cell_type": "markdown",
   "metadata": {},
   "source": [
    "Quando você chamou o método `.get()` desse jeito, passando o `0` como valor padrão, você obtém a contagem atual de uma determinada letra ou 0 (o padrão),caso a letra estiver não seja encontrada no dicionário. Então, você incremente a contagem por 1 e armazena o valor sob a letra correspondente, no dicionário.\n",
    "\n",
    "Você também pode usar o `defaultdict`, do módulo `collections`, para contar objetos dentro de um loop:"
   ]
  },
  {
   "cell_type": "code",
   "execution_count": 3,
   "metadata": {},
   "outputs": [
    {
     "data": {
      "text/plain": [
       "defaultdict(int, {'m': 1, 'i': 4, 's': 4, 'p': 2})"
      ]
     },
     "execution_count": 3,
     "metadata": {},
     "output_type": "execute_result"
    }
   ],
   "source": [
    "from collections import defaultdict  # noqa E402\n",
    "\n",
    "word = \"mississippi\"\n",
    "counter = defaultdict(int)\n",
    "\n",
    "for letter in word:\n",
    "    counter[letter] += 1\n",
    "\n",
    "counter"
   ]
  },
  {
   "cell_type": "markdown",
   "metadata": {},
   "source": [
    "Esta solução é mais concisa e legível. Primeiro, você inicializa o contador usando um `defaultdict` com `int()` como uma função fábrica padrão. Dessa forma, quando você acessa uma chave que não existe no `defaultdict`, o dicionário cria automaticamente a chave e inicializa-o com o valor que a função de fábrica retorna.\n",
    "\n",
    "Neste exemplo, como você está usando `int()` como uma função fábrica, o valor inicial é `0`, que é o resultado de chamar `int()` sem argumentos.\n",
    "\n",
    "Como com muitas outras tarefas frequentes na programação, Python tem um jeito melhor de abordar o problema da contagem. O módulo `collections` tem uma classe especialmente projetada para contar vários objetos diferentes de uma só vez.Esta classe é, convenientemente, chamada de `Counter`."
   ]
  },
  {
   "cell_type": "markdown",
   "metadata": {},
   "source": [
    "## Conhecendo o Counter"
   ]
  },
  {
   "cell_type": "markdown",
   "metadata": {},
   "source": [
    "`Counter` é uma subclasse de `dict` especialmente projetada para contar objetos *hashable*. É um dicionário que armazena objetos como chaves e a contagem como valores. Para contar com `Counter`, você fornece uma seqüência, ou iterável, de objetos hashable como um argumento para o construtor da classe.\n",
    "\n",
    "`Counter` itera através da sequência fornecida como entrada, conta o número de vezes que um determinado objeto ocorre e armazena objetos como chaves e as contagens como valores. Na próxima seção, você aprenderá sobre diferentes maneiras de construir contadores."
   ]
  },
  {
   "cell_type": "markdown",
   "metadata": {},
   "source": [
    "### Construindo Counters"
   ]
  },
  {
   "cell_type": "markdown",
   "metadata": {},
   "source": [
    "Existem várias maneiras de criar instâncias de `Counter`. No entanto, se o seu objetivo é contar vários objetos de uma só vez, você precisará usar uma sequência ou iterável para inicializar o contador. Por exemplo, aqui está como você pode reescrever o exemplo do Mississippi usando o Counter:"
   ]
  },
  {
   "cell_type": "code",
   "execution_count": 5,
   "metadata": {},
   "outputs": [
    {
     "name": "stdout",
     "output_type": "stream",
     "text": [
      "Counter({'i': 4, 's': 4, 'p': 2, 'm': 1})\n",
      "Counter({'i': 4, 's': 4, 'p': 2, 'm': 1})\n"
     ]
    }
   ],
   "source": [
    "from collections import Counter  # noqa E402\n",
    "\n",
    "# Use a string as an argument\n",
    "counter_from_string = Counter(\"mississippi\")\n",
    "print(counter_from_string)\n",
    "\n",
    "\n",
    "# Use a list as an argument\n",
    "counter_from_list = Counter(list(\"mississippi\"))\n",
    "print(counter_from_list)"
   ]
  },
  {
   "cell_type": "markdown",
   "metadata": {},
   "source": [
    "`Counter` itera sobre \"mississippi\" e produz um dicionário com as letras como chaves e sua frequência como valores. No primeiro exemplo, você usa uma string como um argumento para `Counter`. Você também pode usar listas, tuplas ou quaisquer iteráveis com objetos repetidos, como você vê no segundo exemplo.\n",
    "\n",
    "> Nota: Na classe Counter, uma função C altamente otimizada implementa a\n",
    "> funcionalidade de contagem. Se esta função não estiver disponível por algum\n",
    "> motivo, a classe usa uma função de python equivalente, mas menos eficiente.\n",
    "\n",
    "Existem outras maneiras de criar instâncias de `Counter`. No entanto, eles não implicam estritamente a contagem. Por exemplo, você pode usar um dicionário, contendo chaves e contagens, como esta:"
   ]
  },
  {
   "cell_type": "code",
   "execution_count": 6,
   "metadata": {},
   "outputs": [
    {
     "data": {
      "text/plain": [
       "Counter({'i': 4, 's': 4, 'p': 2, 'm': 1})"
      ]
     },
     "execution_count": 6,
     "metadata": {},
     "output_type": "execute_result"
    }
   ],
   "source": [
    "from collections import Counter  # noqa E402\n",
    "\n",
    "Counter({\"i\": 4, \"s\": 4, \"p\": 2, \"m\": 1})\n"
   ]
  },
  {
   "cell_type": "markdown",
   "metadata": {},
   "source": [
    "O contador agora tem um grupo inicial de pares de chaves e contagens. Essa maneira de criar uma instância de contagem é útil quando você precisar fornecer as contagens iniciais de um grupo existente de objetos.\n",
    "\n",
    "Você também pode produzir resultados semelhantes usando argumentos de palavras-chave, quando você chama o construtor da classe:"
   ]
  },
  {
   "cell_type": "code",
   "execution_count": 7,
   "metadata": {},
   "outputs": [
    {
     "data": {
      "text/plain": [
       "Counter({'i': 4, 's': 4, 'p': 2, 'm': 1})"
      ]
     },
     "execution_count": 7,
     "metadata": {},
     "output_type": "execute_result"
    }
   ],
   "source": [
    "from collections import Counter  # noqa E402\n",
    "\n",
    "Counter(i=4, s=4, p=2, m=1)"
   ]
  },
  {
   "cell_type": "markdown",
   "metadata": {},
   "source": [
    "Mais uma vez, você pode usar essa abordagem para criar um objeto `Counter` com um estado inicial específico para seus pares chave-valor.\n",
    "\n",
    "Na prática, se você estiver usando `Counter` para contar as coisas do zero, você não precisará inicializar as contagens, pois eles têm um valor zero por padrão. Outra possibilidade pode ser inicializar as contagens para 1. Nesse caso, você pode fazer algo assim:"
   ]
  },
  {
   "cell_type": "code",
   "execution_count": 9,
   "metadata": {},
   "outputs": [
    {
     "data": {
      "text/plain": [
       "Counter({'p': 1, 'i': 1, 's': 1, 'm': 1})"
      ]
     },
     "execution_count": 9,
     "metadata": {},
     "output_type": "execute_result"
    }
   ],
   "source": [
    "from collections import Counter  # noqa E402\n",
    "\n",
    "\n",
    "Counter(set(\"mississippi\"))"
   ]
  },
  {
   "cell_type": "markdown",
   "metadata": {},
   "source": [
    "Em Python, os `sets` armazenam objetos únicos, portanto, a chamada para `set()`, neste exemplo, elimina as letras repetidas. Depois disso, você acaba com uma instância de cada letra iterável original.\n",
    "\n",
    "Counter herda a interface de dicionários regulares. No entanto, não fornece uma implementação de `.fromkeys()`, para evitar ambiguidades, como `Counter.fromkeys(\"mississippi\", 2)`. Neste exemplo específico, cada letra teria uma contagem padrão de 2, apesar de seu número atual de ocorrências no iterável de entrada.\n",
    "\n",
    "Não há restrições sobre os objetos que você pode armazenar nas chaves e valores de um contador. As chaves podem armazenar objetos *hashable*, enquanto os valores podem armazenar objetos. No entanto, para trabalhar como contadores, os valores devem ser números inteiros representando contagens.\n",
    "\n",
    "Aqui está um exemplo de uma instância de contagem que mantém contagens negativas e zero:"
   ]
  },
  {
   "cell_type": "code",
   "execution_count": 12,
   "metadata": {},
   "outputs": [
    {
     "data": {
      "text/plain": [
       "Counter({'apple': 10, 'orange': 15, 'banana': 0, 'tomato': -15})"
      ]
     },
     "execution_count": 12,
     "metadata": {},
     "output_type": "execute_result"
    }
   ],
   "source": [
    "from collections import Counter\n",
    "\n",
    "inventory = Counter(\n",
    "    apple=10,\n",
    "    orange=15,\n",
    "    banana=0,\n",
    "    tomato=-15\n",
    ")\n",
    "\n",
    "inventory"
   ]
  },
  {
   "cell_type": "markdown",
   "metadata": {},
   "source": [
    "Neste exemplo, você pode perguntar: \"Por que eu tenho -15 tomates?\". Bem, essa poderia ser uma convenção interna para sinalizar que você tem ordem de um cliente para 15 tomates, e você não tem nenhum inventário atual. Quem sabe? O contador permite que você faça isso, e você provavelmente pode encontrar alguns casos de uso para o recurso."
   ]
  },
  {
   "cell_type": "code",
   "execution_count": 14,
   "metadata": {},
   "outputs": [
    {
     "data": {
      "text/plain": [
       "Counter({'apple': 10, 'orange': 15, 'banana': -10, 'tomato': 5})"
      ]
     },
     "execution_count": 14,
     "metadata": {},
     "output_type": "execute_result"
    }
   ],
   "source": []
  },
  {
   "cell_type": "code",
   "execution_count": null,
   "metadata": {},
   "outputs": [],
   "source": []
  }
 ],
 "metadata": {
  "interpreter": {
   "hash": "8ae6e8347844ce31cefbfab1c46c85d6003d3a1108122483edd0f60efc9feef7"
  },
  "kernelspec": {
   "display_name": "Python 3.9.7 64-bit (conda)",
   "language": "python",
   "name": "python3"
  },
  "language_info": {
   "codemirror_mode": {
    "name": "ipython",
    "version": 3
   },
   "file_extension": ".py",
   "mimetype": "text/x-python",
   "name": "python",
   "nbconvert_exporter": "python",
   "pygments_lexer": "ipython3",
   "version": "3.9.7"
  },
  "orig_nbformat": 4
 },
 "nbformat": 4,
 "nbformat_minor": 2
}
