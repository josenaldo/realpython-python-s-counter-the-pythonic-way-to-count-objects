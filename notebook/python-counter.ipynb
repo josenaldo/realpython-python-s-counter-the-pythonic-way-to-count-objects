{
 "cells": [
  {
   "cell_type": "markdown",
   "metadata": {},
   "source": [
    "# Python's Counter: O jeito pythônico de contar objetos"
   ]
  },
  {
   "cell_type": "markdown",
   "metadata": {},
   "source": [
    "Um problema muito comum, na programação, é contar elementos repetidos. Python oferece um monte de ferramentas e técnicas que você pode usar para resolver esse problema. No entanto, a classe `Counter`, do módulo `collections`, tem uma solução limpa, eficiente e pythônica.\n",
    "\n",
    "Esta subclasse de `dict` vem uma funcionalidade de contagem eficiente por padrão. Entender como `Counter` funciona e como usá-lo eficientemente é uma habilidade conveniente para um desenvolvedor de Python.\n",
    "\n",
    "Neste tutorial, você aprenderá a:\n",
    "\n",
    "- Contar vários objetos repetidos de uma só vez:\n",
    "- Criar contadores com o a classe `Counter`\n",
    "- Recuperar os objetos mais comuns em um contador\n",
    "- Atualizar contagens de objetos\n",
    "- Use o contador para facilitar cálculos\n",
    "\n",
    "Você também aprenderá sobre o básico de usar o contador como um multiconjunto(multisset), que é um recurso adicional dessa classe."
   ]
  },
  {
   "cell_type": "markdown",
   "metadata": {},
   "source": [
    "## Contando objetos em Python"
   ]
  },
  {
   "cell_type": "markdown",
   "metadata": {},
   "source": [
    "Às vezes, você precisa contar os objetos em uma determinada fonte de dados, para saber quantas vezes eles ocorrem. Em outras palavras, você precisa determinar sua frequência. Por exemplo, você pode querer saber quantas vezes um item específico aparece em uma lista ou sequência de valores.\n",
    "\n",
    "Quando sua lista é curta, contar os itens pode ser algo direto e rápido. No entanto, quando você tem uma lista longa, contar os items pode ser mais desafiador.\n",
    "\n",
    "Para contar objetos, você normalmente usa um contador, que é uma variável inteira com um valor inicial de zero. Em seguida, você incremente o contador para refletir o número de vezes que um determinado objeto aparece na fonte de dados de entrada.\n",
    "\n",
    "Quando você está contando as ocorrências de um único objeto, você pode usar um único contador. No entanto, quando você precisa contar vários objetos diferentes, você precisa criar um contador pra cada categoria de objeto.\n",
    "\n",
    "Para contar vários objetos diferentes de uma só vez, você pode usar um dicionário Python. As chaves do dicionário armazenarão os objetos que você deseja contar. Os valores do dicionário manterão o número de repetições de um determinado objeto ou a contagem do objeto.\n",
    "\n",
    "Por exemplo, para contar os objetos em uma sequência usando um dicionário, você pode iterar sobre a sequência, verificar se o objeto atual não está no dicionário para inicializar o contador (par de chave de valor) e, em seguida, incrementar sua contagem de acordo.\n",
    "\n",
    "Aqui está um exemplo que conta as letras na palavra \"Mississippi\":"
   ]
  },
  {
   "cell_type": "code",
   "execution_count": 1,
   "metadata": {},
   "outputs": [
    {
     "data": {
      "text/plain": [
       "{'m': 1, 'i': 4, 's': 4, 'p': 2}"
      ]
     },
     "execution_count": 1,
     "metadata": {},
     "output_type": "execute_result"
    }
   ],
   "source": [
    "word = \"mississippi\"\n",
    "counter = {}\n",
    "\n",
    "for letter in word:\n",
    "    if letter not in counter:\n",
    "        counter[letter] = 0\n",
    "    counter[letter] += 1\n",
    "\n",
    "counter\n"
   ]
  },
  {
   "cell_type": "markdown",
   "metadata": {},
   "source": [
    "O loop `for` itera sobre as letras da palavra. Em cada iteração, a condicional verifica se a letra atual não é uma chave no dicionário que você está usando como contador. Em caso afirmativo (ou seja, o dicionário não contém um item com a letra atual como chave), cria uma nova chave com a letra e inicializa sua contagem para zero. O passo final é incrementar o valor do item por um. Quando você acessa o contador, você vê que as letras funcionam como chaves e os valores como contagens.\n",
    "\n",
    "> Nota: Quando você está contando vários objetos repetidos com dicionários,\n",
    "> tenha em mente que eles devem ser *hashable*, uma vez que eles devem funcionar\n",
    "> como chaves de dicionário. Ser *hashable* significa que seus objetos devem ter\n",
    "> um valor de hash que nunca muda durante a sua vida. Em Python, objetos\n",
    "> imutáveis também são *hashable*.\n",
    "\n",
    "Outro jeito de contar objetos com um dicionário é usar o `dict.get()` com `0` como um valor padrão:"
   ]
  },
  {
   "cell_type": "code",
   "execution_count": 2,
   "metadata": {},
   "outputs": [
    {
     "data": {
      "text/plain": [
       "{'m': 1, 'i': 4, 's': 4, 'p': 2}"
      ]
     },
     "execution_count": 2,
     "metadata": {},
     "output_type": "execute_result"
    }
   ],
   "source": [
    "word = \"mississippi\"\n",
    "counter = {}\n",
    "\n",
    "for letter in word:\n",
    "    counter[letter] = counter.get(letter, 0) + 1\n",
    "\n",
    "counter"
   ]
  },
  {
   "cell_type": "markdown",
   "metadata": {},
   "source": [
    "Quando você chamou o método `.get()` desse jeito, passando o `0` como valor padrão, você obtém a contagem atual de uma determinada letra ou 0 (o padrão),caso a letra estiver não seja encontrada no dicionário. Então, você incremente a contagem por 1 e armazena o valor sob a letra correspondente, no dicionário.\n",
    "\n",
    "Você também pode usar o `defaultdict`, do módulo `collections`, para contar objetos dentro de um loop:"
   ]
  },
  {
   "cell_type": "code",
   "execution_count": 3,
   "metadata": {},
   "outputs": [
    {
     "data": {
      "text/plain": [
       "defaultdict(int, {'m': 1, 'i': 4, 's': 4, 'p': 2})"
      ]
     },
     "execution_count": 3,
     "metadata": {},
     "output_type": "execute_result"
    }
   ],
   "source": [
    "from collections import defaultdict  # noqa E402\n",
    "\n",
    "word = \"mississippi\"\n",
    "counter = defaultdict(int)\n",
    "\n",
    "for letter in word:\n",
    "    counter[letter] += 1\n",
    "\n",
    "counter"
   ]
  },
  {
   "cell_type": "markdown",
   "metadata": {},
   "source": [
    "Esta solução é mais concisa e legível. Primeiro, você inicializa o contador usando um `defaultdict` com `int()` como uma função fábrica padrão. Dessa forma, quando você acessa uma chave que não existe no `defaultdict`, o dicionário cria automaticamente a chave e inicializa-o com o valor que a função de fábrica retorna.\n",
    "\n",
    "Neste exemplo, como você está usando `int()` como uma função fábrica, o valor inicial é `0`, que é o resultado de chamar `int()` sem argumentos.\n",
    "\n",
    "Como com muitas outras tarefas frequentes na programação, Python tem um jeito melhor de abordar o problema da contagem. O módulo `collections` tem uma classe especialmente projetada para contar vários objetos diferentes de uma só vez.Esta classe é, convenientemente, chamada de `Counter`."
   ]
  },
  {
   "cell_type": "markdown",
   "metadata": {},
   "source": [
    "## Conhecendo o Counter"
   ]
  },
  {
   "cell_type": "markdown",
   "metadata": {},
   "source": [
    "`Counter` é uma subclasse de `dict` especialmente projetada para contar objetos *hashable*. É um dicionário que armazena objetos como chaves e a contagem como valores. Para contar com `Counter`, você fornece uma seqüência, ou iterável, de objetos hashable como um argumento para o construtor da classe.\n",
    "\n",
    "`Counter` itera através da sequência fornecida como entrada, conta o número de vezes que um determinado objeto ocorre e armazena objetos como chaves e as contagens como valores. Na próxima seção, você aprenderá sobre diferentes maneiras de construir contadores."
   ]
  },
  {
   "cell_type": "markdown",
   "metadata": {},
   "source": [
    "### Construindo Counters"
   ]
  },
  {
   "cell_type": "markdown",
   "metadata": {},
   "source": [
    "Existem várias maneiras de criar instâncias de `Counter`. No entanto, se o seu objetivo é contar vários objetos de uma só vez, você precisará usar uma sequência ou iterável para inicializar o contador. Por exemplo, aqui está como você pode reescrever o exemplo do Mississippi usando o Counter:"
   ]
  },
  {
   "cell_type": "code",
   "execution_count": 4,
   "metadata": {},
   "outputs": [
    {
     "name": "stdout",
     "output_type": "stream",
     "text": [
      "Counter({'i': 4, 's': 4, 'p': 2, 'm': 1})\n",
      "Counter({'i': 4, 's': 4, 'p': 2, 'm': 1})\n"
     ]
    }
   ],
   "source": [
    "from collections import Counter  # noqa E402\n",
    "\n",
    "# Use a string as an argument\n",
    "counter_from_string = Counter(\"mississippi\")\n",
    "print(counter_from_string)\n",
    "\n",
    "\n",
    "# Use a list as an argument\n",
    "counter_from_list = Counter(list(\"mississippi\"))\n",
    "print(counter_from_list)"
   ]
  },
  {
   "cell_type": "markdown",
   "metadata": {},
   "source": [
    "`Counter` itera sobre \"mississippi\" e produz um dicionário com as letras como chaves e sua frequência como valores. No primeiro exemplo, você usa uma string como um argumento para `Counter`. Você também pode usar listas, tuplas ou quaisquer iteráveis com objetos repetidos, como você vê no segundo exemplo.\n",
    "\n",
    "> Nota: Na classe Counter, uma função C altamente otimizada implementa a\n",
    "> funcionalidade de contagem. Se esta função não estiver disponível por algum\n",
    "> motivo, a classe usa uma função de python equivalente, mas menos eficiente.\n",
    "\n",
    "Existem outras maneiras de criar instâncias de `Counter`. No entanto, eles não implicam estritamente a contagem. Por exemplo, você pode usar um dicionário, contendo chaves e contagens, como esta:"
   ]
  },
  {
   "cell_type": "code",
   "execution_count": 5,
   "metadata": {},
   "outputs": [
    {
     "data": {
      "text/plain": [
       "Counter({'i': 4, 's': 4, 'p': 2, 'm': 1})"
      ]
     },
     "execution_count": 5,
     "metadata": {},
     "output_type": "execute_result"
    }
   ],
   "source": [
    "from collections import Counter  # noqa E402\n",
    "\n",
    "Counter({\"i\": 4, \"s\": 4, \"p\": 2, \"m\": 1})\n"
   ]
  },
  {
   "cell_type": "markdown",
   "metadata": {},
   "source": [
    "O contador agora tem um grupo inicial de pares de chaves e contagens. Essa maneira de criar uma instância de contagem é útil quando você precisar fornecer as contagens iniciais de um grupo existente de objetos.\n",
    "\n",
    "Você também pode produzir resultados semelhantes usando argumentos de palavras-chave, quando você chama o construtor da classe:"
   ]
  },
  {
   "cell_type": "code",
   "execution_count": 6,
   "metadata": {},
   "outputs": [
    {
     "data": {
      "text/plain": [
       "Counter({'i': 4, 's': 4, 'p': 2, 'm': 1})"
      ]
     },
     "execution_count": 6,
     "metadata": {},
     "output_type": "execute_result"
    }
   ],
   "source": [
    "from collections import Counter  # noqa E402\n",
    "\n",
    "Counter(i=4, s=4, p=2, m=1)"
   ]
  },
  {
   "cell_type": "markdown",
   "metadata": {},
   "source": [
    "Mais uma vez, você pode usar essa abordagem para criar um objeto `Counter` com um estado inicial específico para seus pares chave-valor.\n",
    "\n",
    "Na prática, se você estiver usando `Counter` para contar as coisas do zero, você não precisará inicializar as contagens, pois eles têm um valor zero por padrão. Outra possibilidade pode ser inicializar as contagens para 1. Nesse caso, você pode fazer algo assim:"
   ]
  },
  {
   "cell_type": "code",
   "execution_count": 7,
   "metadata": {},
   "outputs": [
    {
     "data": {
      "text/plain": [
       "Counter({'p': 1, 'i': 1, 'm': 1, 's': 1})"
      ]
     },
     "execution_count": 7,
     "metadata": {},
     "output_type": "execute_result"
    }
   ],
   "source": [
    "from collections import Counter  # noqa E402\n",
    "\n",
    "\n",
    "Counter(set(\"mississippi\"))"
   ]
  },
  {
   "cell_type": "markdown",
   "metadata": {},
   "source": [
    "Em Python, os `sets` armazenam objetos únicos, portanto, a chamada para `set()`, neste exemplo, elimina as letras repetidas. Depois disso, você acaba com uma instância de cada letra iterável original.\n",
    "\n",
    "Counter herda a interface de dicionários regulares. No entanto, não fornece uma implementação de `.fromkeys()`, para evitar ambiguidades, como `Counter.fromkeys(\"mississippi\", 2)`. Neste exemplo específico, cada letra teria uma contagem padrão de 2, apesar de seu número atual de ocorrências no iterável de entrada.\n",
    "\n",
    "Não há restrições sobre os objetos que você pode armazenar nas chaves e valores de um contador. As chaves podem armazenar objetos *hashable*, enquanto os valores podem armazenar objetos. No entanto, para trabalhar como contadores, os valores devem ser números inteiros representando contagens.\n",
    "\n",
    "Aqui está um exemplo de uma instância de contagem que mantém contagens negativas e zero:"
   ]
  },
  {
   "cell_type": "code",
   "execution_count": 8,
   "metadata": {},
   "outputs": [
    {
     "data": {
      "text/plain": [
       "Counter({'apple': 10, 'orange': 15, 'banana': 0, 'tomato': -15})"
      ]
     },
     "execution_count": 8,
     "metadata": {},
     "output_type": "execute_result"
    }
   ],
   "source": [
    "from collections import Counter  # noqa E402\n",
    "\n",
    "inventory = Counter(\n",
    "    apple=10,\n",
    "    orange=15,\n",
    "    banana=0,\n",
    "    tomato=-15\n",
    ")\n",
    "\n",
    "inventory"
   ]
  },
  {
   "cell_type": "markdown",
   "metadata": {},
   "source": [
    "Neste exemplo, você pode perguntar: \"Por que eu tenho -15 tomates?\". Bem, essa poderia ser uma convenção interna para sinalizar que você tem ordem de um cliente para 15 tomates, e você não tem nenhum inventário atual. Quem sabe? O contador permite que você faça isso, e você provavelmente pode encontrar alguns casos de uso para o recurso."
   ]
  },
  {
   "cell_type": "markdown",
   "metadata": {},
   "source": [
    "### Atualizando contagens de objetos"
   ]
  },
  {
   "cell_type": "markdown",
   "metadata": {},
   "source": [
    "Uma vez que você tenha uma instância de `Counter`, você pode usar método `.update()` para atualizá-lo com novos objetos e contagens. Em vez de substituir valores como sua contraparte de `dict`, a implementação do método `.update()`, fornecida por `Counter`, adiciona as contagens existentes ao conjunto ou cria novos pares de chave-contagem, quando necessário.\n",
    "\n",
    "Você pode usar, como argumentos do `.update()`, tanto com iteráveis quanto com mapeamentos de contagens. Se você usar um iterável, o método conta seus itens e atualiza o contador de acordo."
   ]
  },
  {
   "cell_type": "code",
   "execution_count": 9,
   "metadata": {},
   "outputs": [
    {
     "data": {
      "text/plain": [
       "Counter({'i': 6, 's': 6, 'p': 2, 'm': 2, 'o': 1, 'u': 1, 'r': 1})"
      ]
     },
     "execution_count": 9,
     "metadata": {},
     "output_type": "execute_result"
    }
   ],
   "source": [
    "from collections import Counter  # noqa E402\n",
    "\n",
    "letters = Counter({\"i\": 4, \"s\": 4, \"p\": 2, \"m\": 1})\n",
    "\n",
    "letters.update(\"missouri\")\n",
    "letters"
   ]
  },
  {
   "cell_type": "markdown",
   "metadata": {},
   "source": [
    "Agora você tem 6 instâncias de 'i', 6 instâncias de 's', e assim por diante.Você também tem alguns novos pares de contagem de chaves, como 'o': 1, 'u': 1, e 'r': 1. Note que o iterável precisa ser uma seqüência de itens em vez de uma sequência de pares chave-contagem.\n",
    "\n",
    "> Nota: Como você já sabe, não há restrições sobre os valores (contagens) que\n",
    "> você pode armazenar em um contador.\n",
    ">\n",
    "> Todavia, usar objetos que não são números inteiros como valores pode quebrar\n",
    "> recursos comuns do Counter:"
   ]
  },
  {
   "cell_type": "code",
   "execution_count": 10,
   "metadata": {},
   "outputs": [
    {
     "name": "stderr",
     "output_type": "stream",
     "text": [
      "Traceback (most recent call last):\n",
      "  File \"C:\\Users\\josen\\AppData\\Local\\Temp/ipykernel_24336/1521167072.py\", line 7, in <module>\n",
      "    letters.update(\"missouri\")\n",
      "  File \"E:\\repositorios\\alura\\.venv\\lib\\collections\\__init__.py\", line 679, in update\n",
      "    _count_elements(self, iterable)\n",
      "TypeError: can only concatenate str (not \"int\") to str\n"
     ]
    }
   ],
   "source": [
    "import traceback  # noqa E402\n",
    "from collections import Counter  # noqa E402\n",
    "\n",
    "\n",
    "letters = Counter({\"i\": \"4\", \"s\": \"4\", \"p\": \"2\", \"m\": \"1\"})\n",
    "try:\n",
    "    letters.update(\"missouri\")\n",
    "except Exception:\n",
    "    traceback.print_exc()"
   ]
  },
  {
   "cell_type": "markdown",
   "metadata": {},
   "source": [
    "> Neste exemplo, as contagens das letras são strings, em vez de valores\n",
    "> inteiros.Isso quebra `.update()`, fazendo com que um `TypeError` seja lançado."
   ]
  },
  {
   "cell_type": "markdown",
   "metadata": {},
   "source": [
    "A segunda maneira de usar `.update()` é fornecer outro contador ou um mapeamento de contagens como argumento. Nesse caso, você pode fazer algo assim:"
   ]
  },
  {
   "cell_type": "code",
   "execution_count": 11,
   "metadata": {},
   "outputs": [
    {
     "data": {
      "text/plain": [
       "Counter({'apple': 35, 'orange': 23, 'banana': 15})"
      ]
     },
     "execution_count": 11,
     "metadata": {},
     "output_type": "execute_result"
    }
   ],
   "source": [
    "from collections import Counter  # noqa E402\n",
    "\n",
    "\n",
    "sales = Counter(apple=25, orange=15, banana=12)\n",
    "\n",
    "# Usando outro Counter\n",
    "monday_sales = Counter(apple=10, orange=8, banana=3)\n",
    "sales.update(monday_sales)\n",
    "sales"
   ]
  },
  {
   "cell_type": "code",
   "execution_count": 12,
   "metadata": {},
   "outputs": [
    {
     "data": {
      "text/plain": [
       "Counter({'apple': 39, 'orange': 30, 'banana': 15, 'tomato': 4})"
      ]
     },
     "execution_count": 12,
     "metadata": {},
     "output_type": "execute_result"
    }
   ],
   "source": [
    "# Usando um dicionário de contagens\n",
    "tuesday_sales = {\"apple\": 4, \"orange\": 7, \"tomato\": 4}\n",
    "sales.update(tuesday_sales)\n",
    "sales\n"
   ]
  },
  {
   "cell_type": "markdown",
   "metadata": {},
   "source": [
    "No primeiro exemplo, você atualiza um contador existente, `sales`, usando outro contador, `monday_sales`. Observe como `.update()` adiciona as contagens dos dois contadores.\n",
    "\n",
    "> Nota: Você também pode usar `.update()` com argumentos de palavras-chave.\n",
    "> Então, por exemplo, fazendo algo como\n",
    "> `sales.update(apple=10, orange=8, banana=3)`, funciona do mesmo jeito que\n",
    "> `sales.spdate(monday_sales)`, do exemplo acima.\n",
    "\n",
    "Em seguida, você usa um dicionário regular contendo itens e contagens.Nesse caso, o `.update()` adiciona as contagens às chaves existentes e cria os pares de chave-contagem ausentes."
   ]
  },
  {
   "cell_type": "markdown",
   "metadata": {},
   "source": [
    "### Acessando o conteúdo de Counter"
   ]
  },
  {
   "cell_type": "markdown",
   "metadata": {},
   "source": [
    "Como você já sabe, Counter tem quase a mesma interface que `dict`. Você pode realizar, com objetos Counter, quase as mesmas operações que você pode realizar com dicionários padrão. Por exemplo, você pode acessar seus valores usando o a notação de chave (`[chave]`), como em qualquer dicionário padrão. Você também pode iterar sobre as chaves, sobre os valores e sobre os itens, usando as técnicas e métodos usuais:"
   ]
  },
  {
   "cell_type": "code",
   "execution_count": 13,
   "metadata": {},
   "outputs": [],
   "source": [
    "from collections import Counter  # noqa E402\n",
    "\n",
    "letters = Counter(\"mississippi\")"
   ]
  },
  {
   "cell_type": "code",
   "execution_count": 14,
   "metadata": {},
   "outputs": [
    {
     "data": {
      "text/plain": [
       "2"
      ]
     },
     "execution_count": 14,
     "metadata": {},
     "output_type": "execute_result"
    }
   ],
   "source": [
    "letters[\"p\"]"
   ]
  },
  {
   "cell_type": "code",
   "execution_count": 15,
   "metadata": {},
   "outputs": [
    {
     "data": {
      "text/plain": [
       "4"
      ]
     },
     "execution_count": 15,
     "metadata": {},
     "output_type": "execute_result"
    }
   ],
   "source": [
    "letters[\"s\"]"
   ]
  },
  {
   "cell_type": "code",
   "execution_count": 16,
   "metadata": {},
   "outputs": [
    {
     "name": "stdout",
     "output_type": "stream",
     "text": [
      "m 1\n",
      "i 4\n",
      "s 4\n",
      "p 2\n"
     ]
    }
   ],
   "source": [
    "for letter in letters:\n",
    "    print(letter, letters[letter])"
   ]
  },
  {
   "cell_type": "code",
   "execution_count": 17,
   "metadata": {},
   "outputs": [
    {
     "name": "stdout",
     "output_type": "stream",
     "text": [
      "m 1\n",
      "i 4\n",
      "s 4\n",
      "p 2\n"
     ]
    }
   ],
   "source": [
    "for letter in letters.keys():\n",
    "    print(letter, letters[letter])"
   ]
  },
  {
   "cell_type": "code",
   "execution_count": 18,
   "metadata": {},
   "outputs": [
    {
     "name": "stdout",
     "output_type": "stream",
     "text": [
      "1\n",
      "4\n",
      "4\n",
      "2\n"
     ]
    }
   ],
   "source": [
    "for count in letters.values():\n",
    "    print(count)"
   ]
  },
  {
   "cell_type": "code",
   "execution_count": 19,
   "metadata": {},
   "outputs": [
    {
     "name": "stdout",
     "output_type": "stream",
     "text": [
      "m 1\n",
      "i 4\n",
      "s 4\n",
      "p 2\n"
     ]
    }
   ],
   "source": [
    "for letter, count in letters.items():\n",
    "    print(letter, count)"
   ]
  },
  {
   "cell_type": "markdown",
   "metadata": {},
   "source": [
    "Nestes exemplos, você acessa e itera sobre as chaves (letras) e valores (contagens) do seu contador, usando a interface de dicionário à qual está familiarizado, que inclui métodos como `.keys()`, `.values()` e `.items()`.\n",
    "\n",
    "Uma observação sobre Counter: se você tentar acessar uma chave ausente, então o retorno será `0`, em vez de ocorrer o lançamento de uma `KeyError`."
   ]
  },
  {
   "cell_type": "code",
   "execution_count": 20,
   "metadata": {},
   "outputs": [
    {
     "data": {
      "text/plain": [
       "0"
      ]
     },
     "execution_count": 20,
     "metadata": {},
     "output_type": "execute_result"
    }
   ],
   "source": [
    "from collections import Counter  # noqa E402\n",
    "\n",
    "letters = Counter(\"mississippi\")\n",
    "letters[\"a\"]"
   ]
  },
  {
   "cell_type": "markdown",
   "metadata": {},
   "source": [
    "Como a letra \"a\" não aparece na string \"mississippi\", o contador retorna 0 quando você tenta acessar a contagem para essa letra."
   ]
  },
  {
   "cell_type": "markdown",
   "metadata": {},
   "source": [
    "### Encontrando objetos mais comuns"
   ]
  },
  {
   "cell_type": "markdown",
   "metadata": {},
   "source": [
    "Se você precisar listar um grupo de objetos de acordo com sua frequência, ou o número de vezes que eles aparecem, então você pode usar o método `.most_common()`. Esse método retorna uma lista de tuplas (objeto, contagem), classificada pela contagem atual dos objetos, em ordem decrescente. Objetos com contagens iguais aparecem na ordem em que foram inseridos.\n",
    "\n",
    "Se você fornecer um número inteiro `n` como um argumento para `.most_common()`, então você obtém os `n` objetos mais comuns. Se você omitir `n` ou configurá-lo como `None`, então `.most_common()` retorna todos os objetos do contador:"
   ]
  },
  {
   "cell_type": "code",
   "execution_count": 21,
   "metadata": {},
   "outputs": [],
   "source": [
    "from collections import Counter  # noqa E402\n",
    "sales = Counter(banana=15, tomato=4, apple=39, orange=30, strawberry=4)"
   ]
  },
  {
   "cell_type": "code",
   "execution_count": 22,
   "metadata": {},
   "outputs": [
    {
     "data": {
      "text/plain": [
       "[('apple', 39)]"
      ]
     },
     "execution_count": 22,
     "metadata": {},
     "output_type": "execute_result"
    }
   ],
   "source": [
    "# The most common object\n",
    "sales.most_common(1)"
   ]
  },
  {
   "cell_type": "code",
   "execution_count": 23,
   "metadata": {},
   "outputs": [
    {
     "data": {
      "text/plain": [
       "[('apple', 39), ('orange', 30)]"
      ]
     },
     "execution_count": 23,
     "metadata": {},
     "output_type": "execute_result"
    }
   ],
   "source": [
    "# The two most common objects\n",
    "sales.most_common(2)\n"
   ]
  },
  {
   "cell_type": "code",
   "execution_count": 24,
   "metadata": {},
   "outputs": [
    {
     "data": {
      "text/plain": [
       "[('apple', 39),\n",
       " ('orange', 30),\n",
       " ('banana', 15),\n",
       " ('tomato', 4),\n",
       " ('strawberry', 4)]"
      ]
     },
     "execution_count": 24,
     "metadata": {},
     "output_type": "execute_result"
    }
   ],
   "source": [
    "# All objects sorted by count\n",
    "sales.most_common()"
   ]
  },
  {
   "cell_type": "code",
   "execution_count": 25,
   "metadata": {},
   "outputs": [
    {
     "data": {
      "text/plain": [
       "[('apple', 39),\n",
       " ('orange', 30),\n",
       " ('banana', 15),\n",
       " ('tomato', 4),\n",
       " ('strawberry', 4)]"
      ]
     },
     "execution_count": 25,
     "metadata": {},
     "output_type": "execute_result"
    }
   ],
   "source": [
    "sales.most_common(None)"
   ]
  },
  {
   "cell_type": "code",
   "execution_count": 26,
   "metadata": {},
   "outputs": [
    {
     "data": {
      "text/plain": [
       "[('apple', 39),\n",
       " ('orange', 30),\n",
       " ('banana', 15),\n",
       " ('tomato', 4),\n",
       " ('strawberry', 4)]"
      ]
     },
     "execution_count": 26,
     "metadata": {},
     "output_type": "execute_result"
    }
   ],
   "source": [
    "sales.most_common(20)"
   ]
  },
  {
   "cell_type": "markdown",
   "metadata": {},
   "source": [
    "Nestes exemplos, você usa `.most_common()` para recuperar os objetos mais frequentes nas vendas. Sem argumentos ou com `None`, o método retorna todos os objetos. Se o argumento para `.most_common()` é maior que o comprimento do contador atual, você recebe todos os objetos novamente.\n",
    "\n",
    "Você também pode obter os objetos menos comuns usando o fatiamento no resultado de `.most_common()`:"
   ]
  },
  {
   "cell_type": "code",
   "execution_count": 27,
   "metadata": {},
   "outputs": [
    {
     "data": {
      "text/plain": [
       "[('strawberry', 4),\n",
       " ('tomato', 4),\n",
       " ('banana', 15),\n",
       " ('orange', 30),\n",
       " ('apple', 39)]"
      ]
     },
     "execution_count": 27,
     "metadata": {},
     "output_type": "execute_result"
    }
   ],
   "source": [
    "from collections import Counter  # noqa E402\n",
    "sales = Counter(banana=15, tomato=4, apple=39, orange=30, strawberry=4)\n",
    "\n",
    "# All objects in reverse order\n",
    "sales.most_common()[::-1]\n"
   ]
  },
  {
   "cell_type": "code",
   "execution_count": 28,
   "metadata": {},
   "outputs": [
    {
     "data": {
      "text/plain": [
       "[('strawberry', 4), ('tomato', 4)]"
      ]
     },
     "execution_count": 28,
     "metadata": {},
     "output_type": "execute_result"
    }
   ],
   "source": [
    "# The two least-common objects\n",
    "sales.most_common()[:-3:-1]"
   ]
  },
  {
   "cell_type": "code",
   "execution_count": 29,
   "metadata": {},
   "outputs": [
    {
     "data": {
      "text/plain": [
       "[('strawberry', 4), ('tomato', 4), ('banana', 15)]"
      ]
     },
     "execution_count": 29,
     "metadata": {},
     "output_type": "execute_result"
    }
   ],
   "source": [
    "# The two least-common objects\n",
    "sales.most_common()[:-4:-1]"
   ]
  },
  {
   "cell_type": "markdown",
   "metadata": {},
   "source": [
    "A primeira fatia, `[::-1]`, retorna todos os objetos em `sales`, em ordem decrescente pelas suas respectivas contagens. A fatia `[:-3:-1]` extrai os dois últimos objetos do resultado de `.most_common()`. Você pode ajustar o número de objetos menos comuns que você obtém alterando o segundo valor de deslocamento no operador de fatia. Por exemplo, para obter os três objetos menos frequentes, você pode alterar -3 a -4 e assim por diante.\n",
    "\n",
    "Se você quiser que o método `.most_common()` funcione corretamente, verifique se os valores em seus contadores são ordenáveis. Isso é algo a se observar porque, como mencionado, você pode armazenar quaisquer tipos de dados em um contador."
   ]
  },
  {
   "cell_type": "markdown",
   "metadata": {},
   "source": [
    "## Colocando o `Counter` em ação"
   ]
  },
  {
   "cell_type": "markdown",
   "metadata": {},
   "source": [
    "Até agora, você aprendeu a:\n",
    "\n",
    "- Criar e usar objetos `Counter`.\n",
    "- Contar o número de vezes que cada objeto aparece em uma determinada seqüência ou iterável.\n",
    "- Criar contadores com valores iniciais\n",
    "- Atualizar contadores existentes\n",
    "- Obter os objetos mais frequentes em um determinado contador\n",
    "\n",
    "Nas seções a seguir, veremos alguns exemplos práticos, para que você possa ver quão útil o `Counter` pode ser."
   ]
  },
  {
   "cell_type": "markdown",
   "metadata": {},
   "source": [
    "### Contando letras em um arquivo de texto"
   ]
  },
  {
   "cell_type": "markdown",
   "metadata": {},
   "source": [
    "Digamos que você tenha um arquivo que contém algum texto. Você precisa contar o número de vezes que cada letra aparece no texto. Por exemplo, digamos que você tenha um arquivo chamado pyzen.txt com o seguinte conteúdo:\n",
    "\n",
    "    The Zen of Python, by Tim Peters\n",
    "\n",
    "    Beautiful is better than ugly.\n",
    "    Explicit is better than implicit.\n",
    "    Simple is better than complex.\n",
    "    Complex is better than complicated.\n",
    "    Flat is better than nested.\n",
    "    Sparse is better than dense.\n",
    "    Readability counts.\n",
    "    Special cases aren't special enough to break the rules.\n",
    "    Although practicality beats purity.\n",
    "    Errors should never pass silently.\n",
    "    Unless explicitly silenced.\n",
    "    In the face of ambiguity, refuse the temptation to guess.\n",
    "    There should be one-- and preferably only one --obvious way to do it.\n",
    "    Although that way may not be obvious at first unless you're Dutch.\n",
    "    Now is better than never.\n",
    "    Although never is often better than *right* now.\n",
    "    If the implementation is hard to explain, it's a bad idea.\n",
    "    If the implementation is easy to explain, it may be a good idea.\n",
    "    Namespaces are one honking great idea -- let's do more of those!\n",
    "\n",
    "\n",
    "Sim, este é o Zen do Python, uma lista de princípios orientadores que definem a filosofia central por trás do design do Python. Para contar o número de vezes que cada letra aparece neste texto, você pode aproveitar o `Counter` e escrever uma função como esta:"
   ]
  },
  {
   "cell_type": "code",
   "execution_count": 30,
   "metadata": {},
   "outputs": [],
   "source": [
    "# letters.py\n",
    "from collections import Counter  # noqa E402\n",
    "\n",
    "\n",
    "def count_letters(filename):\n",
    "    letter_counter = Counter()\n",
    "\n",
    "    with open(filename) as file:\n",
    "        for line in file:\n",
    "            line_letters = [\n",
    "                char for char in line.lower() if char.isalpha()\n",
    "            ]\n",
    "            letter_counter.update(Counter(line_letters))\n",
    "    return letter_counter"
   ]
  },
  {
   "cell_type": "markdown",
   "metadata": {},
   "source": [
    "Veja como esse código funciona:\n",
    "\n",
    "- A **linha 4** define `count_letters()`. Esta função recebe como argumento uma string, que contém o caminho do arquivo.\n",
    "- A **linha 5** cria um contador vazio, para contar as letras no texto do arquivo\n",
    "- A **linha 7** abre o arquivo em modo de leitura e cria um iterador sobre o conteúdo deste.\n",
    "- A **linha 8** inicia um loop que itera através do conteúdo do arquivo, linha por linha.\n",
    "- As **linhas 9 a 11** defina uma *list comprehension* para excluir caracteres que não são letras da linha atual, usando `.isalpha()`. A `list comprehension` converte as letras para minúsculas antes de filtrá-las, para evitar ter contagens separadas de maiúsculas e maiúsculas.\n",
    "- A **linha 12** invoca `.update()` no contador de letras, para atualizar as contagens de cada letra.\n",
    "\n",
    "Para usar a função `count_letters()`, você pode fazer algo assim:"
   ]
  },
  {
   "cell_type": "code",
   "execution_count": 31,
   "metadata": {},
   "outputs": [
    {
     "name": "stdout",
     "output_type": "stream",
     "text": [
      "t -> 79\n",
      "h -> 31\n",
      "e -> 92\n",
      "z -> 1\n",
      "n -> 42\n",
      "o -> 43\n",
      "f -> 12\n",
      "p -> 22\n",
      "y -> 17\n",
      "b -> 21\n",
      "i -> 53\n",
      "m -> 16\n",
      "r -> 33\n",
      "s -> 46\n",
      "a -> 53\n",
      "u -> 21\n",
      "l -> 33\n",
      "g -> 11\n",
      "x -> 6\n",
      "c -> 17\n",
      "d -> 17\n",
      "k -> 2\n",
      "v -> 5\n",
      "w -> 4\n"
     ]
    }
   ],
   "source": [
    "letter_counter = count_letters(\"pyzen.txt\")\n",
    "\n",
    "for letter, count in letter_counter.items():\n",
    "    print(letter, \"->\", count)"
   ]
  },
  {
   "cell_type": "code",
   "execution_count": 32,
   "metadata": {},
   "outputs": [
    {
     "name": "stdout",
     "output_type": "stream",
     "text": [
      "e -> 92\n",
      "t -> 79\n",
      "i -> 53\n",
      "a -> 53\n",
      "s -> 46\n"
     ]
    }
   ],
   "source": [
    "for letter, count in letter_counter.most_common(5):\n",
    "    print(letter, \"->\", count)"
   ]
  },
  {
   "cell_type": "markdown",
   "metadata": {},
   "source": [
    "Esse código conta a frequência de cada letra em um determinado arquivo de texto. Pra que isso pode ser usado?\n",
    "\n",
    "Isso pode ser útil, por exemplo, para linguistas, que costumam usar frequência de letras para identificação de idiomas.\n",
    "\n",
    "Em inglês, por exemplo, estudos sobre a frequência média de letras revelaram que as cinco letras mais comuns são \"e\", \"t\", \"a,\" \"o\" e \"i\". Perceba que isso é quase o mesmo resultado do código acima."
   ]
  },
  {
   "cell_type": "markdown",
   "metadata": {},
   "source": [
    "### Plotando dados categóricos com gráficos de barras ASCII"
   ]
  },
  {
   "cell_type": "markdown",
   "metadata": {},
   "source": [
    "A Estatística é outro campo no qual você pode usar a classe `Counter`. Por exemplo, quando você está trabalhando com dados categóricos, você pode querer criar gráficos de barras para visualizar o número de observações por categoria.Os gráficos de barras são especialmente úteis para traçar esse tipo de dados.\n",
    "\n",
    "Digamos que você deseja criar uma função que permita criar gráfico de barras ASCII no seu terminal. Para fazer isso, você pode usar o seguinte código:"
   ]
  },
  {
   "cell_type": "code",
   "execution_count": 33,
   "metadata": {},
   "outputs": [],
   "source": [
    "from collections import Counter  # noqa E402\n",
    "\n",
    "\n",
    "def print_ascii_bar_chart(data, symbol=\"#\"):\n",
    "    counter = Counter(data).most_common()\n",
    "    chart = {category: symbol * frequency for category, frequency in counter}\n",
    "    max_len = max(len(category) for category in chart)\n",
    "    for category, frequency in chart.items():\n",
    "        padding = (max_len - len(category)) * \" \"\n",
    "        print(f\"{category}{padding} |{frequency}\")"
   ]
  },
  {
   "cell_type": "markdown",
   "metadata": {},
   "source": [
    "Neste exemplo, `print_ascii_bar_chart()` recebe alguns dados categóricos, conta o número de vezes que cada categoria exclusiva é exibida nos dados (frequência) e gera um gráfico de barra ASCII que reflete essa frequência.\n",
    "\n",
    "Veja como você pode usar esta função:"
   ]
  },
  {
   "cell_type": "code",
   "execution_count": 34,
   "metadata": {},
   "outputs": [
    {
     "name": "stdout",
     "output_type": "stream",
     "text": [
      "i |################\n",
      "s |################\n",
      "p |########\n",
      "m |####\n"
     ]
    }
   ],
   "source": [
    "letters = \"mississippimississippimississippimississippi\"\n",
    "print_ascii_bar_chart(letters)"
   ]
  },
  {
   "cell_type": "code",
   "execution_count": 35,
   "metadata": {},
   "outputs": [
    {
     "name": "stdout",
     "output_type": "stream",
     "text": [
      "apple  |+++++++++++++++++++++++++++++++++++++++\n",
      "orange |++++++++++++++++++++++++++++++\n",
      "banana |+++++++++++++++\n",
      "tomato |++++\n"
     ]
    }
   ],
   "source": [
    "from collections import Counter  # noqa E402\n",
    "\n",
    "\n",
    "sales = Counter(banana=15, tomato=4, apple=39, orange=30)\n",
    "print_ascii_bar_chart(sales, symbol=\"+\")"
   ]
  },
  {
   "cell_type": "markdown",
   "metadata": {},
   "source": [
    "A primeira chamada a `print_ascii_bar_chart()` plota a frequência de cada letra na string de entrada. A segunda chamada plota as vendas de cada fruta. Neste caso, você usa um contador como entrada. Além disso, observe que você pode usar o parâmetro `symbol` para alterar o caractere usado para imprimir as barras.\n",
    "\n",
    "> Nota: No exemplo acima, `print_ascii_bar_chart()` não normaliza os valores de\n",
    "> frequência quando ele desenha os gráficos. Se você usar dados com valores de\n",
    "> alta frequência, sua tela ficará com uma bagunça de símbolos.\n",
    "\n",
    "Quando você está criando gráficos de barras, usaar barras horizontais permite que você tenha espaço suficiente para os rótulos da categoria. Outro recurso útil dos gráficos de barras é a possibilidade de classificar os dados de acordo com sua frequência. Neste exemplo, você classifica os dados usando `.most_common()`."
   ]
  },
  {
   "cell_type": "markdown",
   "metadata": {},
   "source": [
    "### Plotando dados categóricos com matlotlib"
   ]
  },
  {
   "cell_type": "markdown",
   "metadata": {},
   "source": [
    "É bom saber criar gráficos de barras com ASCII, do zero, usando Python? É. Mas vamos combinar que essa não é a melhor solução, né?\n",
    "\n",
    "No ecossistema Python, existemd diversas soluções para resolver esse problema. Uma delas é a biblioteca [MatplotLib](https://matplotlib.org/), uma biblioteca Python para criar visualizações estáticas, animadas e até interativas.\n",
    "\n",
    "Como ela é uma biblioteca de terceiros, é preciso instalá-la. Para instalá-la, você pode usar o comando:\n",
    "\n",
    "```sh\n",
    "pip install matplotlib\n",
    "```\n",
    "\n",
    "No caso de baixar esse material, você já deve ter usado o comando:\n",
    "\n",
    "```sh\n",
    "pip install -r .\\requirements.txt\n",
    "```\n",
    "\n",
    "Nesse caso, ela já deve estar instalada no seu ambiente.\n",
    "\n",
    "Veja, abaixo, como criar um gráfico simples com MatplotLib."
   ]
  },
  {
   "cell_type": "code",
   "execution_count": 36,
   "metadata": {},
   "outputs": [],
   "source": [
    "from collections import Counter  # noqa E402\n",
    "import matplotlib.pyplot as plt  # noqa E402\n",
    "\n",
    "sales = Counter(banana=15, tomato=4, apple=39, orange=30).most_common()\n",
    "x, y = zip(*sales)"
   ]
  },
  {
   "cell_type": "code",
   "execution_count": 37,
   "metadata": {},
   "outputs": [
    {
     "data": {
      "text/plain": [
       "('apple', 'orange', 'banana', 'tomato')"
      ]
     },
     "execution_count": 37,
     "metadata": {},
     "output_type": "execute_result"
    }
   ],
   "source": [
    "x"
   ]
  },
  {
   "cell_type": "code",
   "execution_count": 38,
   "metadata": {},
   "outputs": [
    {
     "data": {
      "text/plain": [
       "(39, 30, 15, 4)"
      ]
     },
     "execution_count": 38,
     "metadata": {},
     "output_type": "execute_result"
    }
   ],
   "source": [
    "y"
   ]
  },
  {
   "cell_type": "code",
   "execution_count": 39,
   "metadata": {},
   "outputs": [
    {
     "data": {
      "text/plain": [
       "<BarContainer object of 4 artists>"
      ]
     },
     "execution_count": 39,
     "metadata": {},
     "output_type": "execute_result"
    },
    {
     "data": {
      "image/png": "[encoded data removed]",
      "text/plain": [
       "<Figure size 432x288 with 1 Axes>"
      ]
     },
     "metadata": {
      "needs_background": "light"
     },
     "output_type": "display_data"
    }
   ],
   "source": [
    "plt.bar(x, y)"
   ]
  },
  {
   "cell_type": "markdown",
   "metadata": {},
   "source": [
    "Primeiro, você faz as devidas importações. Em seguida, você cria um `Counter` com alguns dados iniciais sobre vendas de frutas (`sales`) e usa `.most_common()` para classificar os dados.\n",
    "\n",
    "Você usa `zip()` para descompactar o conteúdo das vendas em duas variáveis:\n",
    "\n",
    "- `x` mantém uma lista de frutas.\n",
    "- `y` detém as unidades correspondentes vendidas por fruta.\n",
    "\n",
    "Em seguida, você cria um gráfico de barras, usando `plt.bar()`. No notebook, o gráfico é exibido automaticamente.\n",
    "\n",
    "Neste gráfico, o eixo horizontal mostra o nome de cada fruta. Enquanto isso, o eixo vertical indica o número de unidades vendidas por fruta."
   ]
  },
  {
   "cell_type": "code",
   "execution_count": null,
   "metadata": {},
   "outputs": [],
   "source": []
  }
 ],
 "metadata": {
  "interpreter": {
   "hash": "8ae6e8347844ce31cefbfab1c46c85d6003d3a1108122483edd0f60efc9feef7"
  },
  "kernelspec": {
   "display_name": "Python 3.9.7 64-bit (conda)",
   "language": "python",
   "name": "python3"
  },
  "language_info": {
   "codemirror_mode": {
    "name": "ipython",
    "version": 3
   },
   "file_extension": ".py",
   "mimetype": "text/x-python",
   "name": "python",
   "nbconvert_exporter": "python",
   "pygments_lexer": "ipython3",
   "version": "3.9.7"
  },
  "orig_nbformat": 4
 },
 "nbformat": 4,
 "nbformat_minor": 2
}
